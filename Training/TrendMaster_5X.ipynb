{
 "cells": [
  {
   "cell_type": "code",
   "execution_count": 1,
   "metadata": {
    "ExecuteTime": {
     "end_time": "2021-06-08T03:35:16.666081Z",
     "start_time": "2021-06-08T03:35:15.367267Z"
    },
    "scrolled": true
   },
   "outputs": [],
   "source": [
    "import numpy as np # linear algebra\n",
    "import pandas as pd # data processing, CSV file I/O (e.g. pd.read_csv)\n",
    "import joblib\n",
    "import os\n",
    "for dirname, _, filenames in os.walk('/kaggle/input'):\n",
    "    for filename in filenames:\n",
    "#         print(os.path.join(dirname, filename))\n",
    "        continue\n",
    "import torch\n",
    "import torch.nn as nn\n",
    "import numpy as np\n",
    "import time\n",
    "import math\n",
    "from matplotlib import pyplot\n",
    "import joblib\n",
    "from sklearn.preprocessing import MinMaxScaler\n",
    "\n",
    "torch.manual_seed(0)\n",
    "np.random.seed(0)\n",
    "calculate_loss_over_all_values = False"
   ]
  },
  {
   "cell_type": "code",
   "execution_count": 2,
   "metadata": {},
   "outputs": [
    {
     "data": {
      "text/plain": [
       "device(type='cuda')"
      ]
     },
     "execution_count": 2,
     "metadata": {},
     "output_type": "execute_result"
    }
   ],
   "source": [
    "# # for TPU\n",
    "# device = xm.xla_device()\n",
    "# torch.set_default_tensor_type('torch.FloatTensor')\n",
    "# import torch_xla\n",
    "# import torch_xla.core.xla_model as xm\n",
    "\n",
    "# # FOR GPU AND CPU\n",
    "device = torch.device(\"cuda\" if torch.cuda.is_available() else \"cpu\")\n",
    "device"
   ]
  },
  {
   "cell_type": "code",
   "execution_count": 3,
   "metadata": {
    "ExecuteTime": {
     "end_time": "2021-06-08T03:35:16.746534Z",
     "start_time": "2021-06-08T03:35:16.669005Z"
    }
   },
   "outputs": [],
   "source": [
    "# S is the source sequence length\n",
    "# T is the target sequence length\n",
    "# N is the batch size\n",
    "# E is the feature number\n",
    "#src = torch.rand((10, 32, 512)) # (S,N,E) \n",
    "#tgt = torch.rand((20, 32, 512)) # (T,N,E)\n",
    "#out = transformer_model(src, tgt)\n",
    "#print(out)\n",
    "\n",
    "input_window = 300\n",
    "output_window = 5\n",
    "batch_size = 20 # batch size\n",
    "\n",
    "class PositionalEncoding(nn.Module):\n",
    "    def __init__(self, d_model, max_len=5000):\n",
    "        super(PositionalEncoding, self).__init__()       \n",
    "        pe = torch.zeros(max_len, d_model)\n",
    "        position = torch.arange(0, max_len, dtype=torch.float).unsqueeze(1)\n",
    "        div_term = torch.exp(torch.arange(0, d_model, 2).float() * (-math.log(10000.0) / d_model))\n",
    "        pe[:, 0::2] = torch.sin(position * div_term)\n",
    "        pe[:, 1::2] = torch.cos(position * div_term)\n",
    "        pe = pe.unsqueeze(0).transpose(0, 1)\n",
    "        #pe.requires_grad = False\n",
    "        self.register_buffer('pe', pe)\n",
    "    def forward(self, x):\n",
    "        return x + self.pe[:x.size(0), :]\n",
    "\n",
    "class TransAm(nn.Module):\n",
    "    def __init__(self,feature_size=30,num_layers=2,dropout=0.2):\n",
    "        super(TransAm, self).__init__()\n",
    "        self.model_type = 'Transformer'\n",
    "        self.src_mask = None\n",
    "        self.pos_encoder = PositionalEncoding(feature_size)\n",
    "        self.encoder_layer = nn.TransformerEncoderLayer(d_model=feature_size, nhead=10, dropout=dropout)\n",
    "        self.transformer_encoder = nn.TransformerEncoder(self.encoder_layer, num_layers=num_layers)        \n",
    "        self.decoder = nn.Linear(feature_size,1)\n",
    "        self.init_weights()\n",
    "    def init_weights(self):\n",
    "        initrange = 0.1    \n",
    "        self.decoder.bias.data.zero_()\n",
    "        self.decoder.weight.data.uniform_(-initrange, initrange)\n",
    "    def forward(self,src):\n",
    "        if self.src_mask is None or self.src_mask.size(0) != len(src):\n",
    "            device = src.device\n",
    "            mask = self._generate_square_subsequent_mask(len(src)).to(device)\n",
    "            self.src_mask = mask\n",
    "        src = self.pos_encoder(src)\n",
    "        output = self.transformer_encoder(src,self.src_mask)#, self.src_mask)\n",
    "        output = self.decoder(output)\n",
    "        return output\n",
    "    def _generate_square_subsequent_mask(self, sz):\n",
    "        mask = (torch.triu(torch.ones(sz, sz)) == 1).transpose(0, 1)\n",
    "        mask = mask.float().masked_fill(mask == 0, float('-inf')).masked_fill(mask == 1, float(0.0))\n",
    "        return mask\n",
    "\n",
    "# if window is 100 and prediction step is 1\n",
    "# in -> [0..99]\n",
    "# target -> [1..100]\n",
    "def create_inout_sequences(input_data, tw):\n",
    "    inout_seq = []\n",
    "    L = len(input_data)\n",
    "    for i in range(L-tw):\n",
    "        train_seq = np.append(input_data[i:i+tw][:-output_window] , output_window * [0])\n",
    "        train_label = input_data[i:i+tw]\n",
    "        #train_label = input_data[i+output_window:i+tw+output_window]\n",
    "        inout_seq.append((train_seq ,train_label))\n",
    "    return torch.FloatTensor(inout_seq)\n",
    "\n",
    "def get_data2(inst):\n",
    "    this_inst_df = joblib.load(f'./dt11112222/{inst}.p')\n",
    "    amplitude = this_inst_df['close'].to_numpy()\n",
    "    amplitude = amplitude.reshape(-1)\n",
    "    print(amplitude.shape)\n",
    "    \n",
    "    scaler = MinMaxScaler(feature_range=(-15, 15)) \n",
    "    amplitude = scaler.fit_transform(amplitude.reshape(-1, 1)).reshape(-1)\n",
    "    \n",
    "    sampels = int(amplitude.shape[0]*0.95)\n",
    "    train_data = amplitude[:sampels]\n",
    "    test_data = amplitude[sampels:]\n",
    "\n",
    "    train_sequence = create_inout_sequences(train_data,input_window)\n",
    "    train_sequence = train_sequence[:-output_window]\n",
    "    print(train_sequence.shape)\n",
    "    \n",
    "    test_data = create_inout_sequences(test_data,input_window)\n",
    "    test_data = test_data[:-output_window]\n",
    "    print(test_data.shape)\n",
    "    \n",
    "    return train_sequence.to(device),test_data.to(device)\n",
    "\n",
    "def get_batch(source, i,batch_size):\n",
    "    seq_len = min(batch_size, len(source) - 1 - i)\n",
    "    data = source[i:i+seq_len]    \n",
    "    input = torch.stack(torch.stack([item[0] for item in data]).chunk(input_window,1)) # 1 is feature size\n",
    "    target = torch.stack(torch.stack([item[1] for item in data]).chunk(input_window,1))\n",
    "    return input, target\n",
    "\n",
    "\n",
    "def train(train_data):\n",
    "    model.train() # Turn on the train mode\n",
    "    total_loss = 0.\n",
    "    start_time = time.time()\n",
    "    for batch, i in enumerate(range(0, len(train_data) - 1, batch_size)):\n",
    "        data, targets = get_batch(train_data, i,batch_size)\n",
    "        optimizer.zero_grad()\n",
    "        output = model(data)        \n",
    "        if calculate_loss_over_all_values:\n",
    "            loss = criterion(output, targets)\n",
    "        else:\n",
    "            loss = criterion(output[-output_window:], targets[-output_window:])\n",
    "        loss.backward()\n",
    "        torch.nn.utils.clip_grad_norm_(model.parameters(), 0.5)\n",
    "        optimizer.step()\n",
    "        total_loss += loss.item()\n",
    "        log_interval = int(len(train_data) / batch_size / 5)\n",
    "        if batch % log_interval == 0 and batch > 0:\n",
    "            cur_loss = total_loss / log_interval\n",
    "            elapsed = time.time() - start_time\n",
    "            print('| epoch {:3d} | {:5d}/{:5d} batches | '\n",
    "                  'lr {:02.6f} | {:5.2f} ms | '\n",
    "                  'loss {:5.5f} | ppl {:8.2f}'.format(\n",
    "                    epoch, batch, len(train_data) // batch_size, scheduler.get_lr()[0],\n",
    "                    elapsed * 1000 / log_interval,\n",
    "                    cur_loss, math.exp(cur_loss)))\n",
    "            total_loss = 0\n",
    "            start_time = time.time()\n",
    "plot_counter = 0\n",
    "def plot_and_loss(eval_model, data_source,epoch,tknip):\n",
    "    global plot_counter\n",
    "    eval_model.eval() \n",
    "    total_loss = 0.\n",
    "    test_result = torch.Tensor(0)    \n",
    "    truth = torch.Tensor(0)\n",
    "    with torch.no_grad():\n",
    "        for i in range(0, len(data_source) - 1):\n",
    "            data, target = get_batch(data_source, i,1)\n",
    "            # look like the model returns static values for the output window\n",
    "            output = eval_model(data)    \n",
    "            if calculate_loss_over_all_values:                                \n",
    "                total_loss += criterion(output, target).item()\n",
    "            else:\n",
    "                total_loss += criterion(output[-output_window:], target[-output_window:]).item()\n",
    "\n",
    "            test_result = torch.cat((test_result.to(device), output[-1].view(-1).to(device)), 0) #todo: check this. -> looks good to me\n",
    "            truth = torch.cat((truth.to(device), target[-1].view(-1).to(device)), 0)\n",
    "            \n",
    "#             test_result = torch.cat((test_result, output[-1].view(-1).cpu()), 0) #todo: check this. -> looks good to me\n",
    "#             truth = torch.cat((truth, target[-1].view(-1).cpu()), 0)\n",
    "            \n",
    "    test_result = test_result.cpu().numpy()\n",
    "    truth = truth.cpu().numpy()\n",
    "    len(test_result)\n",
    "    plot_counter +=1\n",
    "    pyplot.plot(test_result,color=\"red\")\n",
    "    pyplot.plot(truth[:500],color=\"blue\")\n",
    "    pyplot.plot(test_result-truth,color=\"green\")\n",
    "    pyplot.grid(True, which='both')\n",
    "    pyplot.axhline(y=0, color='k')\n",
    "    pyplot.savefig(f'./plots_5x/transformer-epoch_{plot_counter}_{epoch}_{tknip}.png')\n",
    "   \n",
    "    pyplot.close()\n",
    "    \n",
    "    return total_loss / i\n",
    "\n",
    "\n",
    "def predict_future(eval_model, data_source,steps,tknip):\n",
    "    eval_model.eval() \n",
    "    total_loss = 0.\n",
    "    test_result = torch.Tensor(0)    \n",
    "    truth = torch.Tensor(0)\n",
    "    _ , data = get_batch(data_source, 0,1)\n",
    "    with torch.no_grad():\n",
    "        for i in range(0, steps,1):\n",
    "            input = torch.clone(data[-input_window:])\n",
    "            input[-output_window:] = 0     \n",
    "            output = eval_model(data[-input_window:])                        \n",
    "            data = torch.cat((data, output[-1:]))\n",
    "            \n",
    "#     data = data.to(device).view(-1)\n",
    "    data = data.cpu().view(-1)\n",
    "    pyplot.plot(data,color=\"red\")       \n",
    "    pyplot.plot(data[:input_window],color=\"blue\")\n",
    "    pyplot.grid(True, which='both')\n",
    "    pyplot.axhline(y=0, color='k')\n",
    "    pyplot.savefig(f'./plots_5x/transformer-future_{plot_counter}_{steps}_{tknip}.png')\n",
    "    pyplot.close()\n",
    "        \n",
    "# entweder ist hier ein fehler im loss oder in der train methode, aber die ergebnisse sind unterschiedlich \n",
    "# auch zu denen der predict_future\n",
    "def evaluate(eval_model, data_source):\n",
    "    eval_model.eval() # Turn on the evaluation mode\n",
    "    total_loss = 0.\n",
    "    eval_batch_size = 1000\n",
    "    with torch.no_grad():\n",
    "        for i in range(0, len(data_source) - 1, eval_batch_size):\n",
    "            data, targets = get_batch(data_source, i,eval_batch_size)\n",
    "            output = eval_model(data)            \n",
    "            if calculate_loss_over_all_values:\n",
    "                total_loss += len(data[0])* criterion(output, targets).to(device).item()\n",
    "#                 total_loss += len(data[0])* criterion(output, targets).cpu().item()\n",
    "            else:                                \n",
    "                total_loss += len(data[0])* criterion(output[-output_window:], targets[-output_window:]).to(device).item()            \n",
    "#                 total_loss += len(data[0])* criterion(output[-output_window:], targets[-output_window:]).cpu().item()            \n",
    "    return total_loss / len(data_source)"
   ]
  },
  {
   "cell_type": "code",
   "execution_count": 4,
   "metadata": {
    "ExecuteTime": {
     "end_time": "2021-06-08T03:35:18.735834Z",
     "start_time": "2021-06-08T03:35:16.748679Z"
    }
   },
   "outputs": [],
   "source": [
    "# model = TransAm().to(device)\n",
    "model= torch.load('./best_model_multi11.pt')\n",
    "\n",
    "valid_loss_list = []\n",
    "\n",
    "criterion = nn.MSELoss()\n",
    "lr = 0.000001\n",
    "#optimizer = torch.optim.SGD(model.parameters(), lr=lr)\n",
    "optimizer = torch.optim.AdamW(model.parameters(), lr=lr)\n",
    "scheduler = torch.optim.lr_scheduler.StepLR(optimizer, 1.0, gamma=0.98)\n",
    "\n",
    "best_val_loss = float(\"inf\")\n",
    "epochs = 1 # The number of epochs\n",
    "best_model = None"
   ]
  },
  {
   "cell_type": "code",
   "execution_count": null,
   "metadata": {},
   "outputs": [
    {
     "name": "stdout",
     "output_type": "stream",
     "text": [
      "(115880,)\n",
      "torch.Size([109781, 2, 300])\n",
      "torch.Size([5489, 2, 300])\n"
     ]
    },
    {
     "name": "stderr",
     "output_type": "stream",
     "text": [
      "/opt/conda/lib/python3.7/site-packages/torch/optim/lr_scheduler.py:370: UserWarning: To get the last learning rate computed by the scheduler, please use `get_last_lr()`.\n",
      "  \"please use `get_last_lr()`.\", UserWarning)\n"
     ]
    },
    {
     "name": "stdout",
     "output_type": "stream",
     "text": [
      "| epoch   1 |  1097/ 5489 batches | lr 0.000001 | 61.29 ms | loss 0.53168 | ppl     1.70\n",
      "| epoch   1 |  2194/ 5489 batches | lr 0.000001 | 61.15 ms | loss 0.04943 | ppl     1.05\n",
      "| epoch   1 |  3291/ 5489 batches | lr 0.000001 | 61.09 ms | loss 0.04382 | ppl     1.04\n",
      "| epoch   1 |  4388/ 5489 batches | lr 0.000001 | 61.11 ms | loss 0.09877 | ppl     1.10\n",
      "| epoch   1 |  5485/ 5489 batches | lr 0.000001 | 61.25 ms | loss 0.11499 | ppl     1.12\n",
      "-----------------------------------------------------------------------------------------\n",
      "| end of epoch   1 | time: 353.26s | valid loss 10.87611 | valid ppl 52897.26\n",
      "-----------------------------------------------------------------------------------------\n",
      "./dt11112222/2952193.p\n",
      "(115877,)\n",
      "torch.Size([109778, 2, 300])\n",
      "torch.Size([5489, 2, 300])\n"
     ]
    },
    {
     "name": "stderr",
     "output_type": "stream",
     "text": [
      "/opt/conda/lib/python3.7/site-packages/torch/optim/lr_scheduler.py:370: UserWarning: To get the last learning rate computed by the scheduler, please use `get_last_lr()`.\n",
      "  \"please use `get_last_lr()`.\", UserWarning)\n"
     ]
    },
    {
     "name": "stdout",
     "output_type": "stream",
     "text": [
      "| epoch   1 |  1097/ 5488 batches | lr 0.000001 | 61.24 ms | loss 2.63398 | ppl    13.93\n",
      "| epoch   1 |  2194/ 5488 batches | lr 0.000001 | 57.01 ms | loss 0.35737 | ppl     1.43\n",
      "| epoch   1 |  3291/ 5488 batches | lr 0.000001 | 53.35 ms | loss 0.07555 | ppl     1.08\n",
      "| epoch   1 |  4388/ 5488 batches | lr 0.000001 | 61.31 ms | loss 0.18780 | ppl     1.21\n",
      "| epoch   1 |  5485/ 5488 batches | lr 0.000001 | 61.25 ms | loss 0.65155 | ppl     1.92\n",
      "-----------------------------------------------------------------------------------------\n",
      "| end of epoch   1 | time: 340.90s | valid loss 2.02218 | valid ppl     7.55\n",
      "-----------------------------------------------------------------------------------------\n",
      "./dt11112222/895745.p\n",
      "(115858,)\n",
      "torch.Size([109760, 2, 300])\n",
      "torch.Size([5488, 2, 300])\n"
     ]
    },
    {
     "name": "stderr",
     "output_type": "stream",
     "text": [
      "/opt/conda/lib/python3.7/site-packages/torch/optim/lr_scheduler.py:370: UserWarning: To get the last learning rate computed by the scheduler, please use `get_last_lr()`.\n",
      "  \"please use `get_last_lr()`.\", UserWarning)\n"
     ]
    },
    {
     "name": "stdout",
     "output_type": "stream",
     "text": [
      "| epoch   1 |  1097/ 5488 batches | lr 0.000001 | 61.28 ms | loss 5.09454 | ppl   163.13\n",
      "| epoch   1 |  2194/ 5488 batches | lr 0.000001 | 61.28 ms | loss 0.71411 | ppl     2.04\n",
      "| epoch   1 |  3291/ 5488 batches | lr 0.000001 | 61.37 ms | loss 0.81275 | ppl     2.25\n",
      "| epoch   1 |  4388/ 5488 batches | lr 0.000001 | 61.23 ms | loss 0.61250 | ppl     1.85\n",
      "| epoch   1 |  5485/ 5488 batches | lr 0.000001 | 51.95 ms | loss 0.29729 | ppl     1.35\n",
      "-----------------------------------------------------------------------------------------\n",
      "| end of epoch   1 | time: 343.67s | valid loss 0.15922 | valid ppl     1.17\n",
      "-----------------------------------------------------------------------------------------\n",
      "./dt11112222/2585345.p\n",
      "(115880,)\n",
      "torch.Size([109781, 2, 300])\n",
      "torch.Size([5489, 2, 300])\n"
     ]
    },
    {
     "name": "stderr",
     "output_type": "stream",
     "text": [
      "/opt/conda/lib/python3.7/site-packages/torch/optim/lr_scheduler.py:370: UserWarning: To get the last learning rate computed by the scheduler, please use `get_last_lr()`.\n",
      "  \"please use `get_last_lr()`.\", UserWarning)\n"
     ]
    },
    {
     "name": "stdout",
     "output_type": "stream",
     "text": [
      "| epoch   1 |  1097/ 5489 batches | lr 0.000001 | 61.31 ms | loss 0.81536 | ppl     2.26\n",
      "| epoch   1 |  2194/ 5489 batches | lr 0.000001 | 61.27 ms | loss 2.72213 | ppl    15.21\n",
      "| epoch   1 |  3291/ 5489 batches | lr 0.000001 | 61.16 ms | loss 0.82939 | ppl     2.29\n",
      "| epoch   1 |  4388/ 5489 batches | lr 0.000001 | 61.26 ms | loss 0.12803 | ppl     1.14\n",
      "| epoch   1 |  5485/ 5489 batches | lr 0.000001 | 61.23 ms | loss 0.70024 | ppl     2.01\n",
      "-----------------------------------------------------------------------------------------\n",
      "| end of epoch   1 | time: 353.62s | valid loss 4.57990 | valid ppl    97.50\n",
      "-----------------------------------------------------------------------------------------\n",
      "./dt11112222/969473.p\n",
      "(115849,)\n",
      "torch.Size([109751, 2, 300])\n",
      "torch.Size([5488, 2, 300])\n"
     ]
    },
    {
     "name": "stderr",
     "output_type": "stream",
     "text": [
      "/opt/conda/lib/python3.7/site-packages/torch/optim/lr_scheduler.py:370: UserWarning: To get the last learning rate computed by the scheduler, please use `get_last_lr()`.\n",
      "  \"please use `get_last_lr()`.\", UserWarning)\n"
     ]
    },
    {
     "name": "stdout",
     "output_type": "stream",
     "text": [
      "| epoch   1 |  1097/ 5487 batches | lr 0.000001 | 55.99 ms | loss 1.49771 | ppl     4.47\n",
      "| epoch   1 |  2194/ 5487 batches | lr 0.000001 | 56.69 ms | loss 0.94838 | ppl     2.58\n",
      "| epoch   1 |  3291/ 5487 batches | lr 0.000001 | 61.44 ms | loss 0.47327 | ppl     1.61\n",
      "| epoch   1 |  4388/ 5487 batches | lr 0.000001 | 61.32 ms | loss 0.08392 | ppl     1.09\n",
      "| epoch   1 |  5485/ 5487 batches | lr 0.000001 | 61.15 ms | loss 2.25965 | ppl     9.58\n",
      "-----------------------------------------------------------------------------------------\n",
      "| end of epoch   1 | time: 343.33s | valid loss 1.14967 | valid ppl     3.16\n",
      "-----------------------------------------------------------------------------------------\n",
      "./dt11112222/1195009.p\n",
      "(115858,)\n",
      "torch.Size([109760, 2, 300])\n",
      "torch.Size([5488, 2, 300])\n"
     ]
    },
    {
     "name": "stderr",
     "output_type": "stream",
     "text": [
      "/opt/conda/lib/python3.7/site-packages/torch/optim/lr_scheduler.py:370: UserWarning: To get the last learning rate computed by the scheduler, please use `get_last_lr()`.\n",
      "  \"please use `get_last_lr()`.\", UserWarning)\n"
     ]
    },
    {
     "name": "stdout",
     "output_type": "stream",
     "text": [
      "| epoch   1 |  1097/ 5488 batches | lr 0.000001 | 61.25 ms | loss 2.48392 | ppl    11.99\n",
      "| epoch   1 |  2194/ 5488 batches | lr 0.000001 | 61.25 ms | loss 0.08289 | ppl     1.09\n",
      "| epoch   1 |  3291/ 5488 batches | lr 0.000001 | 59.53 ms | loss 0.10916 | ppl     1.12\n",
      "| epoch   1 |  4388/ 5488 batches | lr 0.000001 | 53.09 ms | loss 0.08923 | ppl     1.09\n",
      "| epoch   1 |  5485/ 5488 batches | lr 0.000001 | 61.36 ms | loss 0.16104 | ppl     1.17\n",
      "-----------------------------------------------------------------------------------------\n",
      "| end of epoch   1 | time: 342.94s | valid loss 8.13450 | valid ppl  3410.11\n",
      "-----------------------------------------------------------------------------------------\n",
      "./dt11112222/523009.p\n",
      "(115871,)\n",
      "torch.Size([109772, 2, 300])\n",
      "torch.Size([5489, 2, 300])\n"
     ]
    },
    {
     "name": "stderr",
     "output_type": "stream",
     "text": [
      "/opt/conda/lib/python3.7/site-packages/torch/optim/lr_scheduler.py:370: UserWarning: To get the last learning rate computed by the scheduler, please use `get_last_lr()`.\n",
      "  \"please use `get_last_lr()`.\", UserWarning)\n"
     ]
    },
    {
     "name": "stdout",
     "output_type": "stream",
     "text": [
      "| epoch   1 |  1097/ 5488 batches | lr 0.000001 | 61.21 ms | loss 0.69287 | ppl     2.00\n",
      "| epoch   1 |  2194/ 5488 batches | lr 0.000001 | 61.15 ms | loss 3.45592 | ppl    31.69\n",
      "| epoch   1 |  3291/ 5488 batches | lr 0.000001 | 61.15 ms | loss 1.90421 | ppl     6.71\n",
      "| epoch   1 |  4388/ 5488 batches | lr 0.000001 | 61.09 ms | loss 0.24887 | ppl     1.28\n",
      "| epoch   1 |  5485/ 5488 batches | lr 0.000001 | 61.11 ms | loss 0.16999 | ppl     1.19\n",
      "-----------------------------------------------------------------------------------------\n",
      "| end of epoch   1 | time: 350.85s | valid loss 7.00482 | valid ppl  1101.94\n",
      "-----------------------------------------------------------------------------------------\n",
      "./dt11112222/3675137.p\n",
      "(115879,)\n",
      "torch.Size([109780, 2, 300])\n",
      "torch.Size([5489, 2, 300])\n"
     ]
    },
    {
     "name": "stderr",
     "output_type": "stream",
     "text": [
      "/opt/conda/lib/python3.7/site-packages/torch/optim/lr_scheduler.py:370: UserWarning: To get the last learning rate computed by the scheduler, please use `get_last_lr()`.\n",
      "  \"please use `get_last_lr()`.\", UserWarning)\n"
     ]
    },
    {
     "name": "stdout",
     "output_type": "stream",
     "text": [
      "| epoch   1 |  1097/ 5489 batches | lr 0.000001 | 60.34 ms | loss 2.63910 | ppl    14.00\n",
      "| epoch   1 |  2194/ 5489 batches | lr 0.000001 | 61.22 ms | loss 0.74731 | ppl     2.11\n",
      "| epoch   1 |  3291/ 5489 batches | lr 0.000001 | 61.49 ms | loss 0.04613 | ppl     1.05\n",
      "| epoch   1 |  4388/ 5489 batches | lr 0.000001 | 61.38 ms | loss 0.04720 | ppl     1.05\n",
      "| epoch   1 |  5485/ 5489 batches | lr 0.000001 | 61.28 ms | loss 0.11308 | ppl     1.12\n",
      "-----------------------------------------------------------------------------------------\n",
      "| end of epoch   1 | time: 353.07s | valid loss 10.01277 | valid ppl 22309.59\n",
      "-----------------------------------------------------------------------------------------\n",
      "./dt11112222/951809.p\n",
      "(115853,)\n",
      "torch.Size([109755, 2, 300])\n",
      "torch.Size([5488, 2, 300])\n"
     ]
    },
    {
     "name": "stderr",
     "output_type": "stream",
     "text": [
      "/opt/conda/lib/python3.7/site-packages/torch/optim/lr_scheduler.py:370: UserWarning: To get the last learning rate computed by the scheduler, please use `get_last_lr()`.\n",
      "  \"please use `get_last_lr()`.\", UserWarning)\n"
     ]
    },
    {
     "name": "stdout",
     "output_type": "stream",
     "text": [
      "| epoch   1 |  1097/ 5487 batches | lr 0.000001 | 61.23 ms | loss 2.18831 | ppl     8.92\n",
      "| epoch   1 |  2194/ 5487 batches | lr 0.000001 | 57.89 ms | loss 0.14931 | ppl     1.16\n",
      "| epoch   1 |  3291/ 5487 batches | lr 0.000001 | 54.48 ms | loss 0.09622 | ppl     1.10\n",
      "| epoch   1 |  4388/ 5487 batches | lr 0.000001 | 61.14 ms | loss 0.87830 | ppl     2.41\n",
      "| epoch   1 |  5485/ 5487 batches | lr 0.000001 | 61.08 ms | loss 1.40562 | ppl     4.08\n",
      "-----------------------------------------------------------------------------------------\n",
      "| end of epoch   1 | time: 342.54s | valid loss 0.42434 | valid ppl     1.53\n",
      "-----------------------------------------------------------------------------------------\n",
      "./dt11112222/98049.p\n",
      "(115853,)\n",
      "torch.Size([109755, 2, 300])\n",
      "torch.Size([5488, 2, 300])\n"
     ]
    },
    {
     "name": "stderr",
     "output_type": "stream",
     "text": [
      "/opt/conda/lib/python3.7/site-packages/torch/optim/lr_scheduler.py:370: UserWarning: To get the last learning rate computed by the scheduler, please use `get_last_lr()`.\n",
      "  \"please use `get_last_lr()`.\", UserWarning)\n"
     ]
    },
    {
     "name": "stdout",
     "output_type": "stream",
     "text": [
      "| epoch   1 |  1097/ 5487 batches | lr 0.000001 | 61.18 ms | loss 2.41651 | ppl    11.21\n",
      "| epoch   1 |  2194/ 5487 batches | lr 0.000001 | 61.15 ms | loss 1.22052 | ppl     3.39\n",
      "| epoch   1 |  3291/ 5487 batches | lr 0.000001 | 61.12 ms | loss 0.44676 | ppl     1.56\n",
      "| epoch   1 |  4388/ 5487 batches | lr 0.000001 | 61.12 ms | loss 0.09451 | ppl     1.10\n",
      "| epoch   1 |  5485/ 5487 batches | lr 0.000001 | 51.19 ms | loss 0.45911 | ppl     1.58\n",
      "-----------------------------------------------------------------------------------------\n",
      "| end of epoch   1 | time: 342.95s | valid loss 0.26036 | valid ppl     1.30\n",
      "-----------------------------------------------------------------------------------------\n",
      "./dt11112222/558337.p\n",
      "(115876,)\n",
      "torch.Size([109777, 2, 300])\n",
      "torch.Size([5489, 2, 300])\n"
     ]
    },
    {
     "name": "stderr",
     "output_type": "stream",
     "text": [
      "/opt/conda/lib/python3.7/site-packages/torch/optim/lr_scheduler.py:370: UserWarning: To get the last learning rate computed by the scheduler, please use `get_last_lr()`.\n",
      "  \"please use `get_last_lr()`.\", UserWarning)\n"
     ]
    },
    {
     "name": "stdout",
     "output_type": "stream",
     "text": [
      "| epoch   1 |  1097/ 5488 batches | lr 0.000001 | 61.18 ms | loss 2.56862 | ppl    13.05\n",
      "| epoch   1 |  2194/ 5488 batches | lr 0.000001 | 61.11 ms | loss 0.16024 | ppl     1.17\n",
      "| epoch   1 |  3291/ 5488 batches | lr 0.000001 | 61.13 ms | loss 0.11139 | ppl     1.12\n",
      "| epoch   1 |  4388/ 5488 batches | lr 0.000001 | 61.18 ms | loss 0.64873 | ppl     1.91\n",
      "| epoch   1 |  5485/ 5488 batches | lr 0.000001 | 61.15 ms | loss 2.13986 | ppl     8.50\n",
      "-----------------------------------------------------------------------------------------\n",
      "| end of epoch   1 | time: 353.66s | valid loss 0.13352 | valid ppl     1.14\n",
      "-----------------------------------------------------------------------------------------\n",
      "./dt11112222/3365633.p\n",
      "(115852,)\n",
      "torch.Size([109754, 2, 300])\n",
      "torch.Size([5488, 2, 300])\n"
     ]
    },
    {
     "name": "stderr",
     "output_type": "stream",
     "text": [
      "/opt/conda/lib/python3.7/site-packages/torch/optim/lr_scheduler.py:370: UserWarning: To get the last learning rate computed by the scheduler, please use `get_last_lr()`.\n",
      "  \"please use `get_last_lr()`.\", UserWarning)\n"
     ]
    },
    {
     "name": "stdout",
     "output_type": "stream",
     "text": [
      "| epoch   1 |  1097/ 5487 batches | lr 0.000001 | 57.05 ms | loss 0.38198 | ppl     1.47\n",
      "| epoch   1 |  2194/ 5487 batches | lr 0.000001 | 55.63 ms | loss 0.09850 | ppl     1.10\n",
      "| epoch   1 |  3291/ 5487 batches | lr 0.000001 | 61.19 ms | loss 5.49590 | ppl   243.69\n",
      "| epoch   1 |  4388/ 5487 batches | lr 0.000001 | 61.20 ms | loss 0.25487 | ppl     1.29\n",
      "| epoch   1 |  5485/ 5487 batches | lr 0.000001 | 61.22 ms | loss 0.39163 | ppl     1.48\n",
      "-----------------------------------------------------------------------------------------\n",
      "| end of epoch   1 | time: 342.60s | valid loss 1.08486 | valid ppl     2.96\n",
      "-----------------------------------------------------------------------------------------\n",
      "./dt11112222/108033.p\n",
      "(115876,)\n",
      "torch.Size([109777, 2, 300])\n",
      "torch.Size([5489, 2, 300])\n"
     ]
    },
    {
     "name": "stderr",
     "output_type": "stream",
     "text": [
      "/opt/conda/lib/python3.7/site-packages/torch/optim/lr_scheduler.py:370: UserWarning: To get the last learning rate computed by the scheduler, please use `get_last_lr()`.\n",
      "  \"please use `get_last_lr()`.\", UserWarning)\n"
     ]
    },
    {
     "name": "stdout",
     "output_type": "stream",
     "text": [
      "| epoch   1 |  1097/ 5488 batches | lr 0.000001 | 61.25 ms | loss 0.79353 | ppl     2.21\n",
      "| epoch   1 |  2194/ 5488 batches | lr 0.000001 | 61.24 ms | loss 0.40399 | ppl     1.50\n",
      "| epoch   1 |  3291/ 5488 batches | lr 0.000001 | 60.32 ms | loss 1.70321 | ppl     5.49\n",
      "| epoch   1 |  4388/ 5488 batches | lr 0.000001 | 52.36 ms | loss 0.40728 | ppl     1.50\n",
      "| epoch   1 |  5485/ 5488 batches | lr 0.000001 | 61.20 ms | loss 0.29021 | ppl     1.34\n",
      "-----------------------------------------------------------------------------------------\n",
      "| end of epoch   1 | time: 342.79s | valid loss 7.99610 | valid ppl  2969.37\n",
      "-----------------------------------------------------------------------------------------\n",
      "./dt11112222/3834113.p\n",
      "(115880,)\n",
      "torch.Size([109781, 2, 300])\n",
      "torch.Size([5489, 2, 300])\n"
     ]
    },
    {
     "name": "stderr",
     "output_type": "stream",
     "text": [
      "/opt/conda/lib/python3.7/site-packages/torch/optim/lr_scheduler.py:370: UserWarning: To get the last learning rate computed by the scheduler, please use `get_last_lr()`.\n",
      "  \"please use `get_last_lr()`.\", UserWarning)\n"
     ]
    },
    {
     "name": "stdout",
     "output_type": "stream",
     "text": [
      "| epoch   1 |  1097/ 5489 batches | lr 0.000001 | 61.18 ms | loss 0.36406 | ppl     1.44\n",
      "| epoch   1 |  2194/ 5489 batches | lr 0.000001 | 61.20 ms | loss 1.11222 | ppl     3.04\n",
      "| epoch   1 |  3291/ 5489 batches | lr 0.000001 | 61.29 ms | loss 0.81451 | ppl     2.26\n",
      "| epoch   1 |  4388/ 5489 batches | lr 0.000001 | 61.25 ms | loss 6.46701 | ppl   643.56\n",
      "| epoch   1 |  5485/ 5489 batches | lr 0.000001 | 61.27 ms | loss 0.53240 | ppl     1.70\n",
      "-----------------------------------------------------------------------------------------\n",
      "| end of epoch   1 | time: 352.07s | valid loss 0.89003 | valid ppl     2.44\n",
      "-----------------------------------------------------------------------------------------\n",
      "./dt11112222/4278529.p\n",
      "(89759,)\n",
      "torch.Size([84966, 2, 300])\n",
      "torch.Size([4183, 2, 300])\n"
     ]
    },
    {
     "name": "stderr",
     "output_type": "stream",
     "text": [
      "/opt/conda/lib/python3.7/site-packages/torch/optim/lr_scheduler.py:370: UserWarning: To get the last learning rate computed by the scheduler, please use `get_last_lr()`.\n",
      "  \"please use `get_last_lr()`.\", UserWarning)\n"
     ]
    },
    {
     "name": "stdout",
     "output_type": "stream",
     "text": [
      "| epoch   1 |   849/ 4248 batches | lr 0.000001 | 53.78 ms | loss 0.80764 | ppl     2.24\n",
      "| epoch   1 |  1698/ 4248 batches | lr 0.000001 | 61.20 ms | loss 2.21260 | ppl     9.14\n",
      "| epoch   1 |  2547/ 4248 batches | lr 0.000001 | 61.13 ms | loss 0.11679 | ppl     1.12\n",
      "| epoch   1 |  3396/ 4248 batches | lr 0.000001 | 61.17 ms | loss 1.25251 | ppl     3.50\n",
      "| epoch   1 |  4245/ 4248 batches | lr 0.000001 | 61.29 ms | loss 0.63811 | ppl     1.89\n",
      "-----------------------------------------------------------------------------------------\n",
      "| end of epoch   1 | time: 267.08s | valid loss 8.21851 | valid ppl  3708.98\n",
      "-----------------------------------------------------------------------------------------\n",
      "./dt11112222/4488705.p\n",
      "(115870,)\n",
      "torch.Size([109771, 2, 300])\n",
      "torch.Size([5489, 2, 300])\n"
     ]
    },
    {
     "name": "stderr",
     "output_type": "stream",
     "text": [
      "/opt/conda/lib/python3.7/site-packages/torch/optim/lr_scheduler.py:370: UserWarning: To get the last learning rate computed by the scheduler, please use `get_last_lr()`.\n",
      "  \"please use `get_last_lr()`.\", UserWarning)\n"
     ]
    },
    {
     "name": "stdout",
     "output_type": "stream",
     "text": [
      "| epoch   1 |  1097/ 5488 batches | lr 0.000001 | 61.25 ms | loss 0.21236 | ppl     1.24\n",
      "| epoch   1 |  2194/ 5488 batches | lr 0.000001 | 61.28 ms | loss 0.13701 | ppl     1.15\n",
      "| epoch   1 |  3291/ 5488 batches | lr 0.000001 | 61.25 ms | loss 0.09716 | ppl     1.10\n",
      "| epoch   1 |  4388/ 5488 batches | lr 0.000001 | 51.05 ms | loss 0.18254 | ppl     1.20\n",
      "| epoch   1 |  5485/ 5488 batches | lr 0.000001 | 61.13 ms | loss 0.60617 | ppl     1.83\n",
      "-----------------------------------------------------------------------------------------\n",
      "| end of epoch   1 | time: 342.66s | valid loss 1.06984 | valid ppl     2.91\n",
      "-----------------------------------------------------------------------------------------\n",
      "./dt11112222/3924993.p\n",
      "(115857,)\n",
      "torch.Size([109759, 2, 300])\n",
      "torch.Size([5488, 2, 300])\n"
     ]
    },
    {
     "name": "stderr",
     "output_type": "stream",
     "text": [
      "/opt/conda/lib/python3.7/site-packages/torch/optim/lr_scheduler.py:370: UserWarning: To get the last learning rate computed by the scheduler, please use `get_last_lr()`.\n",
      "  \"please use `get_last_lr()`.\", UserWarning)\n"
     ]
    },
    {
     "name": "stdout",
     "output_type": "stream",
     "text": [
      "| epoch   1 |  1097/ 5487 batches | lr 0.000001 | 61.19 ms | loss 6.04851 | ppl   423.48\n",
      "| epoch   1 |  2194/ 5487 batches | lr 0.000001 | 61.16 ms | loss 2.63407 | ppl    13.93\n",
      "| epoch   1 |  3291/ 5487 batches | lr 0.000001 | 61.50 ms | loss 3.43953 | ppl    31.17\n",
      "| epoch   1 |  4388/ 5487 batches | lr 0.000001 | 61.24 ms | loss 4.49561 | ppl    89.62\n",
      "| epoch   1 |  5485/ 5487 batches | lr 0.000001 | 61.19 ms | loss 0.93343 | ppl     2.54\n",
      "-----------------------------------------------------------------------------------------\n",
      "| end of epoch   1 | time: 353.77s | valid loss 0.37965 | valid ppl     1.46\n",
      "-----------------------------------------------------------------------------------------\n",
      "./dt11112222/3039233.p\n",
      "(115881,)\n",
      "torch.Size([109781, 2, 300])\n",
      "torch.Size([5490, 2, 300])\n"
     ]
    },
    {
     "name": "stderr",
     "output_type": "stream",
     "text": [
      "/opt/conda/lib/python3.7/site-packages/torch/optim/lr_scheduler.py:370: UserWarning: To get the last learning rate computed by the scheduler, please use `get_last_lr()`.\n",
      "  \"please use `get_last_lr()`.\", UserWarning)\n"
     ]
    },
    {
     "name": "stdout",
     "output_type": "stream",
     "text": [
      "| epoch   1 |  1097/ 5489 batches | lr 0.000001 | 53.19 ms | loss 0.09726 | ppl     1.10\n",
      "| epoch   1 |  2194/ 5489 batches | lr 0.000001 | 61.09 ms | loss 2.69829 | ppl    14.85\n",
      "| epoch   1 |  3291/ 5489 batches | lr 0.000001 | 61.16 ms | loss 10.13801 | ppl 25286.06\n",
      "| epoch   1 |  4388/ 5489 batches | lr 0.000001 | 61.14 ms | loss 0.33899 | ppl     1.40\n",
      "| epoch   1 |  5485/ 5489 batches | lr 0.000001 | 61.36 ms | loss 0.95256 | ppl     2.59\n",
      "-----------------------------------------------------------------------------------------\n",
      "| end of epoch   1 | time: 344.72s | valid loss 1.35913 | valid ppl     3.89\n",
      "-----------------------------------------------------------------------------------------\n",
      "./dt11112222/975873.p\n",
      "(115832,)\n",
      "torch.Size([109735, 2, 300])\n",
      "torch.Size([5487, 2, 300])\n"
     ]
    },
    {
     "name": "stderr",
     "output_type": "stream",
     "text": [
      "/opt/conda/lib/python3.7/site-packages/torch/optim/lr_scheduler.py:370: UserWarning: To get the last learning rate computed by the scheduler, please use `get_last_lr()`.\n",
      "  \"please use `get_last_lr()`.\", UserWarning)\n"
     ]
    },
    {
     "name": "stdout",
     "output_type": "stream",
     "text": [
      "| epoch   1 |  1097/ 5486 batches | lr 0.000001 | 61.31 ms | loss 3.87205 | ppl    48.04\n",
      "| epoch   1 |  2194/ 5486 batches | lr 0.000001 | 61.14 ms | loss 1.10818 | ppl     3.03\n",
      "| epoch   1 |  3291/ 5486 batches | lr 0.000001 | 51.35 ms | loss 0.16887 | ppl     1.18\n",
      "| epoch   1 |  4388/ 5486 batches | lr 0.000001 | 61.25 ms | loss 0.06214 | ppl     1.06\n",
      "| epoch   1 |  5485/ 5486 batches | lr 0.000001 | 61.26 ms | loss 0.11805 | ppl     1.13\n",
      "-----------------------------------------------------------------------------------------\n",
      "| end of epoch   1 | time: 342.58s | valid loss 3.76513 | valid ppl    43.17\n",
      "-----------------------------------------------------------------------------------------\n",
      "./dt11112222/1793.p\n",
      "(115877,)\n",
      "torch.Size([109778, 2, 300])\n",
      "torch.Size([5489, 2, 300])\n"
     ]
    },
    {
     "name": "stderr",
     "output_type": "stream",
     "text": [
      "/opt/conda/lib/python3.7/site-packages/torch/optim/lr_scheduler.py:370: UserWarning: To get the last learning rate computed by the scheduler, please use `get_last_lr()`.\n",
      "  \"please use `get_last_lr()`.\", UserWarning)\n"
     ]
    },
    {
     "name": "stdout",
     "output_type": "stream",
     "text": [
      "| epoch   1 |  1097/ 5488 batches | lr 0.000001 | 61.23 ms | loss 2.74816 | ppl    15.61\n",
      "| epoch   1 |  2194/ 5488 batches | lr 0.000001 | 61.28 ms | loss 3.38066 | ppl    29.39\n",
      "| epoch   1 |  3291/ 5488 batches | lr 0.000001 | 61.21 ms | loss 0.16757 | ppl     1.18\n",
      "| epoch   1 |  4388/ 5488 batches | lr 0.000001 | 61.32 ms | loss 0.40930 | ppl     1.51\n",
      "| epoch   1 |  5485/ 5488 batches | lr 0.000001 | 52.62 ms | loss 1.54525 | ppl     4.69\n",
      "-----------------------------------------------------------------------------------------\n",
      "| end of epoch   1 | time: 344.28s | valid loss 0.13221 | valid ppl     1.14\n",
      "-----------------------------------------------------------------------------------------\n",
      "./dt11112222/884737.p\n",
      "(115860,)\n",
      "torch.Size([109762, 2, 300])\n",
      "torch.Size([5488, 2, 300])\n"
     ]
    },
    {
     "name": "stderr",
     "output_type": "stream",
     "text": [
      "/opt/conda/lib/python3.7/site-packages/torch/optim/lr_scheduler.py:370: UserWarning: To get the last learning rate computed by the scheduler, please use `get_last_lr()`.\n",
      "  \"please use `get_last_lr()`.\", UserWarning)\n"
     ]
    },
    {
     "name": "stdout",
     "output_type": "stream",
     "text": [
      "| epoch   1 |  1097/ 5488 batches | lr 0.000001 | 61.59 ms | loss 2.02295 | ppl     7.56\n",
      "| epoch   1 |  2194/ 5488 batches | lr 0.000001 | 61.13 ms | loss 0.29025 | ppl     1.34\n",
      "| epoch   1 |  3291/ 5488 batches | lr 0.000001 | 61.16 ms | loss 0.09643 | ppl     1.10\n",
      "| epoch   1 |  4388/ 5488 batches | lr 0.000001 | 61.11 ms | loss 0.07433 | ppl     1.08\n",
      "| epoch   1 |  5485/ 5488 batches | lr 0.000001 | 60.01 ms | loss 0.19669 | ppl     1.22\n",
      "-----------------------------------------------------------------------------------------\n",
      "| end of epoch   1 | time: 348.30s | valid loss 4.53721 | valid ppl    93.43\n",
      "-----------------------------------------------------------------------------------------\n",
      "./dt11112222/348929.p\n",
      "(115857,)\n",
      "torch.Size([109759, 2, 300])\n",
      "torch.Size([5488, 2, 300])\n"
     ]
    },
    {
     "name": "stderr",
     "output_type": "stream",
     "text": [
      "/opt/conda/lib/python3.7/site-packages/torch/optim/lr_scheduler.py:370: UserWarning: To get the last learning rate computed by the scheduler, please use `get_last_lr()`.\n",
      "  \"please use `get_last_lr()`.\", UserWarning)\n"
     ]
    },
    {
     "name": "stdout",
     "output_type": "stream",
     "text": [
      "| epoch   1 |  1097/ 5487 batches | lr 0.000001 | 61.33 ms | loss 0.26440 | ppl     1.30\n",
      "| epoch   1 |  2194/ 5487 batches | lr 0.000001 | 61.25 ms | loss 0.40917 | ppl     1.51\n",
      "| epoch   1 |  3291/ 5487 batches | lr 0.000001 | 61.26 ms | loss 6.09788 | ppl   444.91\n",
      "| epoch   1 |  4388/ 5487 batches | lr 0.000001 | 61.39 ms | loss 0.34600 | ppl     1.41\n",
      "| epoch   1 |  5485/ 5487 batches | lr 0.000001 | 61.13 ms | loss 0.53233 | ppl     1.70\n",
      "-----------------------------------------------------------------------------------------\n",
      "| end of epoch   1 | time: 353.61s | valid loss 1.35404 | valid ppl     3.87\n",
      "-----------------------------------------------------------------------------------------\n",
      "./dt11112222/232961.p\n",
      "(115877,)\n",
      "torch.Size([109778, 2, 300])\n",
      "torch.Size([5489, 2, 300])\n"
     ]
    },
    {
     "name": "stderr",
     "output_type": "stream",
     "text": [
      "/opt/conda/lib/python3.7/site-packages/torch/optim/lr_scheduler.py:370: UserWarning: To get the last learning rate computed by the scheduler, please use `get_last_lr()`.\n",
      "  \"please use `get_last_lr()`.\", UserWarning)\n"
     ]
    },
    {
     "name": "stdout",
     "output_type": "stream",
     "text": [
      "| epoch   1 |  1097/ 5488 batches | lr 0.000001 | 61.18 ms | loss 3.15781 | ppl    23.52\n",
      "| epoch   1 |  2194/ 5488 batches | lr 0.000001 | 53.30 ms | loss 3.02576 | ppl    20.61\n",
      "| epoch   1 |  3291/ 5488 batches | lr 0.000001 | 58.72 ms | loss 0.28667 | ppl     1.33\n",
      "| epoch   1 |  4388/ 5488 batches | lr 0.000001 | 61.11 ms | loss 0.22430 | ppl     1.25\n",
      "| epoch   1 |  5485/ 5488 batches | lr 0.000001 | 61.15 ms | loss 0.85939 | ppl     2.36\n",
      "-----------------------------------------------------------------------------------------\n",
      "| end of epoch   1 | time: 342.31s | valid loss 16.29688 | valid ppl 11957650.31\n",
      "-----------------------------------------------------------------------------------------\n",
      "./dt11112222/878593.p\n",
      "(115856,)\n",
      "torch.Size([109758, 2, 300])\n",
      "torch.Size([5488, 2, 300])\n"
     ]
    },
    {
     "name": "stderr",
     "output_type": "stream",
     "text": [
      "/opt/conda/lib/python3.7/site-packages/torch/optim/lr_scheduler.py:370: UserWarning: To get the last learning rate computed by the scheduler, please use `get_last_lr()`.\n",
      "  \"please use `get_last_lr()`.\", UserWarning)\n"
     ]
    },
    {
     "name": "stdout",
     "output_type": "stream",
     "text": [
      "| epoch   1 |  1097/ 5487 batches | lr 0.000001 | 61.23 ms | loss 2.32347 | ppl    10.21\n",
      "| epoch   1 |  2194/ 5487 batches | lr 0.000001 | 61.17 ms | loss 0.38145 | ppl     1.46\n",
      "| epoch   1 |  3291/ 5487 batches | lr 0.000001 | 61.23 ms | loss 0.19627 | ppl     1.22\n",
      "| epoch   1 |  4388/ 5487 batches | lr 0.000001 | 58.45 ms | loss 0.11035 | ppl     1.12\n",
      "| epoch   1 |  5485/ 5487 batches | lr 0.000001 | 54.08 ms | loss 0.63977 | ppl     1.90\n",
      "-----------------------------------------------------------------------------------------\n",
      "| end of epoch   1 | time: 342.64s | valid loss 0.13813 | valid ppl     1.15\n",
      "-----------------------------------------------------------------------------------------\n",
      "./dt11112222/486657.p\n",
      "(115861,)\n",
      "torch.Size([109762, 2, 300])\n",
      "torch.Size([5489, 2, 300])\n"
     ]
    },
    {
     "name": "stderr",
     "output_type": "stream",
     "text": [
      "/opt/conda/lib/python3.7/site-packages/torch/optim/lr_scheduler.py:370: UserWarning: To get the last learning rate computed by the scheduler, please use `get_last_lr()`.\n",
      "  \"please use `get_last_lr()`.\", UserWarning)\n"
     ]
    },
    {
     "name": "stdout",
     "output_type": "stream",
     "text": [
      "| epoch   1 |  1097/ 5488 batches | lr 0.000001 | 61.26 ms | loss 0.07567 | ppl     1.08\n",
      "| epoch   1 |  2194/ 5488 batches | lr 0.000001 | 61.20 ms | loss 0.33922 | ppl     1.40\n",
      "| epoch   1 |  3291/ 5488 batches | lr 0.000001 | 61.13 ms | loss 7.93691 | ppl  2798.71\n",
      "| epoch   1 |  4388/ 5488 batches | lr 0.000001 | 61.18 ms | loss 0.60872 | ppl     1.84\n",
      "| epoch   1 |  5485/ 5488 batches | lr 0.000001 | 61.27 ms | loss 2.22708 | ppl     9.27\n",
      "-----------------------------------------------------------------------------------------\n",
      "| end of epoch   1 | time: 353.55s | valid loss 3.44285 | valid ppl    31.28\n",
      "-----------------------------------------------------------------------------------------\n",
      "./dt11112222/7712001.p\n",
      "(115849,)\n",
      "torch.Size([109751, 2, 300])\n",
      "torch.Size([5488, 2, 300])\n"
     ]
    },
    {
     "name": "stderr",
     "output_type": "stream",
     "text": [
      "/opt/conda/lib/python3.7/site-packages/torch/optim/lr_scheduler.py:370: UserWarning: To get the last learning rate computed by the scheduler, please use `get_last_lr()`.\n",
      "  \"please use `get_last_lr()`.\", UserWarning)\n"
     ]
    },
    {
     "name": "stdout",
     "output_type": "stream",
     "text": [
      "| epoch   1 |  1097/ 5487 batches | lr 0.000001 | 51.42 ms | loss 0.09378 | ppl     1.10\n",
      "| epoch   1 |  2194/ 5487 batches | lr 0.000001 | 61.17 ms | loss 0.08141 | ppl     1.08\n",
      "| epoch   1 |  3291/ 5487 batches | lr 0.000001 | 61.19 ms | loss 2.90848 | ppl    18.33\n",
      "| epoch   1 |  4388/ 5487 batches | lr 0.000001 | 61.12 ms | loss 0.16932 | ppl     1.18\n",
      "| epoch   1 |  5485/ 5487 batches | lr 0.000001 | 61.15 ms | loss 0.58217 | ppl     1.79\n",
      "-----------------------------------------------------------------------------------------\n",
      "| end of epoch   1 | time: 342.36s | valid loss 0.80519 | valid ppl     2.24\n",
      "-----------------------------------------------------------------------------------------\n",
      "./dt11112222/54273.p\n",
      "(29306,)\n",
      "torch.Size([27535, 2, 300])\n",
      "torch.Size([1161, 2, 300])\n"
     ]
    },
    {
     "name": "stderr",
     "output_type": "stream",
     "text": [
      "/opt/conda/lib/python3.7/site-packages/torch/optim/lr_scheduler.py:370: UserWarning: To get the last learning rate computed by the scheduler, please use `get_last_lr()`.\n",
      "  \"please use `get_last_lr()`.\", UserWarning)\n"
     ]
    },
    {
     "name": "stdout",
     "output_type": "stream",
     "text": [
      "| epoch   1 |   275/ 1376 batches | lr 0.000001 | 61.51 ms | loss 0.30114 | ppl     1.35\n",
      "| epoch   1 |   550/ 1376 batches | lr 0.000001 | 61.24 ms | loss 2.00446 | ppl     7.42\n",
      "| epoch   1 |   825/ 1376 batches | lr 0.000001 | 61.15 ms | loss 0.14452 | ppl     1.16\n",
      "| epoch   1 |  1100/ 1376 batches | lr 0.000001 | 61.11 ms | loss 0.34151 | ppl     1.41\n",
      "| epoch   1 |  1375/ 1376 batches | lr 0.000001 | 61.20 ms | loss 3.33897 | ppl    28.19\n",
      "-----------------------------------------------------------------------------------------\n",
      "| end of epoch   1 | time: 88.35s | valid loss 4.01719 | valid ppl    55.54\n",
      "-----------------------------------------------------------------------------------------\n",
      "./dt11112222/3484417.p\n",
      "(115849,)\n",
      "torch.Size([109751, 2, 300])\n",
      "torch.Size([5488, 2, 300])\n"
     ]
    },
    {
     "name": "stderr",
     "output_type": "stream",
     "text": [
      "/opt/conda/lib/python3.7/site-packages/torch/optim/lr_scheduler.py:370: UserWarning: To get the last learning rate computed by the scheduler, please use `get_last_lr()`.\n",
      "  \"please use `get_last_lr()`.\", UserWarning)\n"
     ]
    },
    {
     "name": "stdout",
     "output_type": "stream",
     "text": [
      "| epoch   1 |  1097/ 5487 batches | lr 0.000001 | 61.47 ms | loss 0.39130 | ppl     1.48\n",
      "| epoch   1 |  2194/ 5487 batches | lr 0.000001 | 51.40 ms | loss 0.65365 | ppl     1.92\n",
      "| epoch   1 |  3291/ 5487 batches | lr 0.000001 | 61.16 ms | loss 2.54352 | ppl    12.72\n",
      "| epoch   1 |  4388/ 5487 batches | lr 0.000001 | 61.14 ms | loss 0.86538 | ppl     2.38\n",
      "| epoch   1 |  5485/ 5487 batches | lr 0.000001 | 61.18 ms | loss 0.23546 | ppl     1.27\n",
      "-----------------------------------------------------------------------------------------\n",
      "| end of epoch   1 | time: 342.61s | valid loss 11.21307 | valid ppl 74092.71\n",
      "-----------------------------------------------------------------------------------------\n",
      "./dt11112222/40193.p\n",
      "(115839,)\n",
      "torch.Size([109742, 2, 300])\n",
      "torch.Size([5487, 2, 300])\n"
     ]
    }
   ],
   "source": [
    "counter = 0\n",
    "files_to_consider = 15\n",
    "\n",
    "load_counter = 0\n",
    "\n",
    "while True:\n",
    "    for dirname, _, filenames in os.walk('./dt11112222/'):\n",
    "        for filename in filenames:\n",
    "            path_str = os.path.join(dirname, filename)\n",
    "            split_lst = path_str.split('.')\n",
    "            contains = 'p' in split_lst\n",
    "            if(contains): ## and counter<files_to_consider\n",
    "\n",
    "                one_plty = filename.split('/')[0].split('.')[0]\n",
    "\n",
    "                train_data, val_data = get_data2(one_plty)\n",
    "\n",
    "                for epoch in range(1, epochs + 1):\n",
    "                    epoch_start_time = time.time()\n",
    "                    train(train_data)\n",
    "\n",
    "                    if(epoch % 1 == 0):\n",
    "                        val_loss = plot_and_loss(model, val_data,epoch,one_plty)\n",
    "                        predict_future(model, val_data,200,one_plty)\n",
    "                    else:\n",
    "                        val_loss = evaluate(model, val_data)\n",
    "\n",
    "                    print('-' * 89)\n",
    "                    print('| end of epoch {:3d} | time: {:5.2f}s | valid loss {:5.5f} | valid ppl {:8.2f}'.format(epoch, (time.time() - epoch_start_time),\n",
    "                                                     val_loss, math.exp(val_loss)))\n",
    "                    print('-' * 89)\n",
    "                    \n",
    "                    torch.save(model,'./best_model_multi10.pt')\n",
    "                    torch.save(model,f'./inst_wise_model_5x/{one_plty}.pt')\n",
    "                    \n",
    "                    load_counter+=1\n",
    "                    valid_loss_list.append({'inst':one_plty,\n",
    "                                            'loss':val_loss})\n",
    "                    valid_loss_map_df = pd.DataFrame(valid_loss_list)\n",
    "                    valid_loss_map_df.to_excel('./valid_loss_map_df_5x.xlsx')\n",
    "                    \n",
    "                    \n",
    "                    if val_loss < best_val_loss:\n",
    "                        best_val_loss = val_loss\n",
    "                        best_model = model\n",
    "                        torch.save(best_model,'./best_model_multi10_best.pt')\n",
    "                        model= torch.load('./best_model_multi11_best.pt')\n",
    "\n",
    "    \n",
    "\n",
    "                #src = torch.rand(input_window, batch_size, 1) # (source sequence length,batch size,feature number) \n",
    "                #out = model(src)\n",
    "                #\n",
    "                #print(out)\n",
    "                #print(out.shape)\n",
    "\n",
    "                print(path_str)\n",
    "                counter+=1\n",
    "                \n",
    "    scheduler.step() "
   ]
  },
  {
   "cell_type": "code",
   "execution_count": null,
   "metadata": {},
   "outputs": [],
   "source": [
    "torch.save(model,'./best_model_multi10.pt')"
   ]
  },
  {
   "cell_type": "code",
   "execution_count": null,
   "metadata": {},
   "outputs": [],
   "source": [
    "print('sdfsdf')"
   ]
  },
  {
   "cell_type": "code",
   "execution_count": null,
   "metadata": {
    "ExecuteTime": {
     "end_time": "2021-06-08T03:35:18.747412Z",
     "start_time": "2021-06-08T03:35:18.739652Z"
    }
   },
   "outputs": [],
   "source": [
    "train_data.shape"
   ]
  },
  {
   "cell_type": "code",
   "execution_count": null,
   "metadata": {
    "ExecuteTime": {
     "end_time": "2021-06-08T03:35:18.763454Z",
     "start_time": "2021-06-08T03:35:18.749417Z"
    }
   },
   "outputs": [],
   "source": [
    "val_data.shape"
   ]
  },
  {
   "cell_type": "code",
   "execution_count": null,
   "metadata": {
    "ExecuteTime": {
     "start_time": "2021-06-08T03:35:15.379Z"
    }
   },
   "outputs": [],
   "source": [
    "# for epoch in range(1, epochs + 1):\n",
    "#     epoch_start_time = time.time()\n",
    "#     train(train_data)\n",
    "    \n",
    "#     if(epoch % 1 == 0):\n",
    "#         val_loss = plot_and_loss(model, val_data,epoch)\n",
    "#         predict_future(model, val_data,200)\n",
    "#     else:\n",
    "#         val_loss = evaluate(model, val_data)\n",
    "        \n",
    "#     print('-' * 89)\n",
    "#     print('| end of epoch {:3d} | time: {:5.2f}s | valid loss {:5.5f} | valid ppl {:8.2f}'.format(epoch, (time.time() - epoch_start_time),\n",
    "#                                      val_loss, math.exp(val_loss)))\n",
    "#     print('-' * 89)\n",
    "\n",
    "#     if val_loss < best_val_loss:\n",
    "#         best_val_loss = val_loss\n",
    "#         best_model = model\n",
    "#         torch.save(best_model,'./best_model_multi.pt')\n",
    "\n",
    "#     scheduler.step() \n",
    "\n",
    "# #src = torch.rand(input_window, batch_size, 1) # (source sequence length,batch size,feature number) \n",
    "# #out = model(src)\n",
    "# #\n",
    "# #print(out)\n",
    "# #print(out.shape)"
   ]
  },
  {
   "cell_type": "code",
   "execution_count": null,
   "metadata": {},
   "outputs": [],
   "source": [
    "# src = torch.rand(30, batch_size, 30) # (source sequence length,batch size,feature number) \n",
    "# src = src.to(device=\"cuda\")\n",
    "# # out = gf(val_data[0])\n",
    "# print(src.shape)\n",
    "# out = model(src)\n",
    "\n",
    "# print(out)\n",
    "# print(out.shape)"
   ]
  },
  {
   "cell_type": "code",
   "execution_count": null,
   "metadata": {},
   "outputs": [],
   "source": [
    "print('hi')"
   ]
  },
  {
   "cell_type": "code",
   "execution_count": null,
   "metadata": {},
   "outputs": [],
   "source": [
    "# gf= torch.load('../input/dt11112222/best_model_multi.pt')"
   ]
  }
 ],
 "metadata": {
  "environment": {
   "name": "common-cu110.m71",
   "type": "gcloud",
   "uri": "gcr.io/deeplearning-platform-release/base-cu110:m71"
  },
  "hide_input": false,
  "kernelspec": {
   "display_name": "Python 3",
   "language": "python",
   "name": "python3"
  },
  "language_info": {
   "codemirror_mode": {
    "name": "ipython",
    "version": 3
   },
   "file_extension": ".py",
   "mimetype": "text/x-python",
   "name": "python",
   "nbconvert_exporter": "python",
   "pygments_lexer": "ipython3",
   "version": "3.9.5"
  },
  "varInspector": {
   "cols": {
    "lenName": 16,
    "lenType": 16,
    "lenVar": 40
   },
   "kernels_config": {
    "python": {
     "delete_cmd_postfix": "",
     "delete_cmd_prefix": "del ",
     "library": "var_list.py",
     "varRefreshCmd": "print(var_dic_list())"
    },
    "r": {
     "delete_cmd_postfix": ") ",
     "delete_cmd_prefix": "rm(",
     "library": "var_list.r",
     "varRefreshCmd": "cat(var_dic_list()) "
    }
   },
   "types_to_exclude": [
    "module",
    "function",
    "builtin_function_or_method",
    "instance",
    "_Feature"
   ],
   "window_display": false
  }
 },
 "nbformat": 4,
 "nbformat_minor": 4
}
